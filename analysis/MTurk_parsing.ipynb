{
 "metadata": {
  "language_info": {
   "codemirror_mode": {
    "name": "ipython",
    "version": 3
   },
   "file_extension": ".py",
   "mimetype": "text/x-python",
   "name": "python",
   "nbconvert_exporter": "python",
   "pygments_lexer": "ipython3",
   "version": "3.8.10"
  },
  "orig_nbformat": 2,
  "kernelspec": {
   "name": "python3810jvsc74a57bd0ebf20119e036fbe69c35eaa30a9897466096db747ffea3bbdf7fa1c6721ce681",
   "display_name": "Python 3.8.10 64-bit (windows store)"
  },
  "metadata": {
   "interpreter": {
    "hash": "ebf20119e036fbe69c35eaa30a9897466096db747ffea3bbdf7fa1c6721ce681"
   }
  }
 },
 "nbformat": 4,
 "nbformat_minor": 2,
 "cells": [
  {
   "cell_type": "code",
   "execution_count": 1,
   "metadata": {},
   "outputs": [],
   "source": [
    "import numpy as np\n",
    "import pandas as pd\n",
    "import matplotlib.pyplot as plt\n",
    "from os import walk\n",
    "import pickle\n",
    "import os\n",
    "\n",
    "FILEPATH = 'dat'\n",
    "save = False # export files"
   ]
  },
  {
   "cell_type": "code",
   "execution_count": 2,
   "metadata": {},
   "outputs": [],
   "source": [
    "batch_files = []\n",
    "data_files  = []\n",
    "\n",
    "for (dirpath, dirnames, fnames) in walk(FILEPATH): #[dat, pilot_dat]\n",
    "    for f in fnames:\n",
    "        if 'Batch_' in f:\n",
    "            batch_files.append(f)\n",
    "        else:\n",
    "            data_files.append(f)"
   ]
  },
  {
   "cell_type": "code",
   "execution_count": 3,
   "metadata": {},
   "outputs": [
    {
     "output_type": "execute_result",
     "data": {
      "text/plain": [
       "(['Batch_4318249_batch_results.csv',\n",
       "  'Batch_4319068_batch_results.csv',\n",
       "  'Batch_4319396_batch_results.csv',\n",
       "  'Batch_4322859_batch_results.csv',\n",
       "  'Batch_4323327_batch_results.csv',\n",
       "  'Batch_4324179_batch_results.csv'],\n",
       " ['test (1).xlsx', 'test.xlsx'])"
      ]
     },
     "metadata": {},
     "execution_count": 3
    }
   ],
   "source": [
    "batch_files, data_files"
   ]
  },
  {
   "cell_type": "code",
   "execution_count": 4,
   "metadata": {},
   "outputs": [],
   "source": [
    "df_batch = []\n",
    "df_dat = []\n",
    "df_comment = []\n",
    "\n",
    "for f in batch_files:\n",
    "    df_batch.append(pd.read_csv(FILEPATH + '/' + f))\n",
    "\n",
    "for f in data_files:\n",
    "    with pd.ExcelFile(FILEPATH + '/' + f, engine='openpyxl') as xls:\n",
    "        df_dat.append(pd.read_excel(xls, 'DB'))\n",
    "        df_comment.append(pd.read_excel(xls, 'COMMENTS'))\n",
    "\n",
    "# concatenate all data files in a single dataframe\n",
    "df_dat_whole = pd.DataFrame(columns=df_dat[0].columns)\n",
    "\n",
    "for dat in df_dat:\n",
    "    df_dat_whole = df_dat_whole.append(dat)"
   ]
  },
  {
   "cell_type": "code",
   "execution_count": 5,
   "metadata": {},
   "outputs": [
    {
     "output_type": "execute_result",
     "data": {
      "text/plain": [
       "Index(['id', 'user', 'comment'], dtype='object')"
      ]
     },
     "metadata": {},
     "execution_count": 5
    }
   ],
   "source": [
    "df_comment[0].columns"
   ]
  },
  {
   "cell_type": "code",
   "execution_count": 6,
   "metadata": {},
   "outputs": [],
   "source": [
    "# compile a user comment dataframe\n",
    "new_df_comment = pd.DataFrame(columns=df_comment[0].columns)\n",
    "\n",
    "for df in df_comment:\n",
    "    new_df_comment = new_df_comment.append(df, ignore_index=True)"
   ]
  },
  {
   "cell_type": "code",
   "execution_count": 7,
   "metadata": {},
   "outputs": [
    {
     "output_type": "execute_result",
     "data": {
      "text/plain": [
       "Index(['HITId', 'HITTypeId', 'Title', 'Description', 'Keywords', 'Reward',\n",
       "       'CreationTime', 'MaxAssignments', 'RequesterAnnotation',\n",
       "       'AssignmentDurationInSeconds', 'AutoApprovalDelayInSeconds',\n",
       "       'Expiration', 'NumberOfSimilarHITs', 'LifetimeInSeconds',\n",
       "       'AssignmentId', 'WorkerId', 'AssignmentStatus', 'AcceptTime',\n",
       "       'SubmitTime', 'AutoApprovalTime', 'ApprovalTime', 'RejectionTime',\n",
       "       'RequesterFeedback', 'WorkTimeInSeconds', 'LifetimeApprovalRate',\n",
       "       'Last30DaysApprovalRate', 'Last7DaysApprovalRate', 'Answer.surveycode',\n",
       "       'Approve', 'Reject'],\n",
       "      dtype='object')"
      ]
     },
     "metadata": {},
     "execution_count": 7
    }
   ],
   "source": [
    "df_batch[0].columns"
   ]
  },
  {
   "cell_type": "code",
   "execution_count": 8,
   "metadata": {},
   "outputs": [
    {
     "output_type": "execute_result",
     "data": {
      "text/plain": [
       "0    33FOTY3KEP2YUBTWZND9WSE9XTAC1I\n",
       "1    36AHBNMV1UT5P9ADB8FTUL71PCPYDS\n",
       "2    3A0EX8ZRNB5CACCTXCONZVJ1MRDYBL\n",
       "3    3F1567XTNZMKDH6A8ITXV3L9ZJR9QJ\n",
       "4    3HOSI13XH252RYFMFCSFH0X07OKDD0\n",
       "5    3KOPY89HMBJHCSDHWJ8E7P61LXXJ3V\n",
       "6    3QL2OFSM99Z18I0L4AB7TZRC0U6CNH\n",
       "7    3S96KQ6I9PL98NBJ12SUM4FMAA7TDY\n",
       "8    3SB4CE2TJYCIRXHRM22PL6SM23ZAXX\n",
       "9    3SEPORI8WQG7WSH6NKQAIR8XA3XAZU\n",
       "Name: AssignmentId, dtype: object"
      ]
     },
     "metadata": {},
     "execution_count": 8
    }
   ],
   "source": [
    "df_batch[0]['AssignmentId']"
   ]
  },
  {
   "cell_type": "code",
   "execution_count": 9,
   "metadata": {},
   "outputs": [
    {
     "output_type": "execute_result",
     "data": {
      "text/plain": [
       "           WorkerId WorkTimeInSeconds                     Answer.surveycode\n",
       "0     A65N7P7LMZ4GE              4587  8701315a-59b9-4fa6-9f5f-4c85ad143a76\n",
       "1    A2VRDE2FHCBMF8              1474  a2cdf1da-5aa1-40c8-94ed-471a4b1fd78d\n",
       "2    A34CPKFZXBX1PO              1255  eb0162e1-dd64-4d42-a44a-f7154ae858bc\n",
       "3     AG9LMLEPXP2YC              4801  36c04674-62c8-4f4c-a1b1-ec6a12badf01\n",
       "4     AFSW5HVZ0EKET              3046  94d0f9fd-14dd-4191-963e-e4b145625acc\n",
       "..              ...               ...                                   ...\n",
       "145  A19ZWBQT8A3LIR              2222  6264fbc4-f71d-4fbf-ad47-8593724dc742\n",
       "146  A38DXFI1TZA295              5894  520a33dc-5e7f-44f3-85e7-968a80d5ba52\n",
       "147  A25R2OI9L2Q1OW              5615  7aae45c9-1aa0-415b-a60a-70deda6437f2\n",
       "148  A3I40B0FATY8VH              2722  189efc73-db8a-428d-bcf8-c20ce9ab883a\n",
       "149  A1DD23J1WBGQUU              6391  14acf634-faaa-415e-8096-95e474be0f76\n",
       "\n",
       "[150 rows x 3 columns]"
      ],
      "text/html": "<div>\n<style scoped>\n    .dataframe tbody tr th:only-of-type {\n        vertical-align: middle;\n    }\n\n    .dataframe tbody tr th {\n        vertical-align: top;\n    }\n\n    .dataframe thead th {\n        text-align: right;\n    }\n</style>\n<table border=\"1\" class=\"dataframe\">\n  <thead>\n    <tr style=\"text-align: right;\">\n      <th></th>\n      <th>WorkerId</th>\n      <th>WorkTimeInSeconds</th>\n      <th>Answer.surveycode</th>\n    </tr>\n  </thead>\n  <tbody>\n    <tr>\n      <th>0</th>\n      <td>A65N7P7LMZ4GE</td>\n      <td>4587</td>\n      <td>8701315a-59b9-4fa6-9f5f-4c85ad143a76</td>\n    </tr>\n    <tr>\n      <th>1</th>\n      <td>A2VRDE2FHCBMF8</td>\n      <td>1474</td>\n      <td>a2cdf1da-5aa1-40c8-94ed-471a4b1fd78d</td>\n    </tr>\n    <tr>\n      <th>2</th>\n      <td>A34CPKFZXBX1PO</td>\n      <td>1255</td>\n      <td>eb0162e1-dd64-4d42-a44a-f7154ae858bc</td>\n    </tr>\n    <tr>\n      <th>3</th>\n      <td>AG9LMLEPXP2YC</td>\n      <td>4801</td>\n      <td>36c04674-62c8-4f4c-a1b1-ec6a12badf01</td>\n    </tr>\n    <tr>\n      <th>4</th>\n      <td>AFSW5HVZ0EKET</td>\n      <td>3046</td>\n      <td>94d0f9fd-14dd-4191-963e-e4b145625acc</td>\n    </tr>\n    <tr>\n      <th>...</th>\n      <td>...</td>\n      <td>...</td>\n      <td>...</td>\n    </tr>\n    <tr>\n      <th>145</th>\n      <td>A19ZWBQT8A3LIR</td>\n      <td>2222</td>\n      <td>6264fbc4-f71d-4fbf-ad47-8593724dc742</td>\n    </tr>\n    <tr>\n      <th>146</th>\n      <td>A38DXFI1TZA295</td>\n      <td>5894</td>\n      <td>520a33dc-5e7f-44f3-85e7-968a80d5ba52</td>\n    </tr>\n    <tr>\n      <th>147</th>\n      <td>A25R2OI9L2Q1OW</td>\n      <td>5615</td>\n      <td>7aae45c9-1aa0-415b-a60a-70deda6437f2</td>\n    </tr>\n    <tr>\n      <th>148</th>\n      <td>A3I40B0FATY8VH</td>\n      <td>2722</td>\n      <td>189efc73-db8a-428d-bcf8-c20ce9ab883a</td>\n    </tr>\n    <tr>\n      <th>149</th>\n      <td>A1DD23J1WBGQUU</td>\n      <td>6391</td>\n      <td>14acf634-faaa-415e-8096-95e474be0f76</td>\n    </tr>\n  </tbody>\n</table>\n<p>150 rows × 3 columns</p>\n</div>"
     },
     "metadata": {},
     "execution_count": 9
    }
   ],
   "source": [
    "# worker batch file\n",
    "new_df_batch = pd.DataFrame(columns=['WorkerId', 'WorkTimeInSeconds' , 'Answer.surveycode'])\n",
    "\n",
    "for i in df_batch:\n",
    "    temp = i[['WorkerId', 'WorkTimeInSeconds' , 'Answer.surveycode']]\n",
    "    new_df_batch = new_df_batch.append(temp, ignore_index=True)\n",
    "\n",
    "old_df_batch = new_df_batch.copy()\n",
    "\n",
    "new_df_batch"
   ]
  },
  {
   "cell_type": "code",
   "execution_count": 10,
   "metadata": {},
   "outputs": [
    {
     "output_type": "execute_result",
     "data": {
      "text/plain": [
       "          WorkerId WorkTimeInSeconds                     Answer.surveycode\n",
       "12  A1PTH9KTRO06EG              2233  2f05d213-d605-4d99-9e96-7e6fbffe8114\n",
       "31  A1PTH9KTRO06EG              6742  7a5bd8df-e71c-4c5f-bcb4-75e23efe3a8c"
      ],
      "text/html": "<div>\n<style scoped>\n    .dataframe tbody tr th:only-of-type {\n        vertical-align: middle;\n    }\n\n    .dataframe tbody tr th {\n        vertical-align: top;\n    }\n\n    .dataframe thead th {\n        text-align: right;\n    }\n</style>\n<table border=\"1\" class=\"dataframe\">\n  <thead>\n    <tr style=\"text-align: right;\">\n      <th></th>\n      <th>WorkerId</th>\n      <th>WorkTimeInSeconds</th>\n      <th>Answer.surveycode</th>\n    </tr>\n  </thead>\n  <tbody>\n    <tr>\n      <th>12</th>\n      <td>A1PTH9KTRO06EG</td>\n      <td>2233</td>\n      <td>2f05d213-d605-4d99-9e96-7e6fbffe8114</td>\n    </tr>\n    <tr>\n      <th>31</th>\n      <td>A1PTH9KTRO06EG</td>\n      <td>6742</td>\n      <td>7a5bd8df-e71c-4c5f-bcb4-75e23efe3a8c</td>\n    </tr>\n  </tbody>\n</table>\n</div>"
     },
     "metadata": {},
     "execution_count": 10
    }
   ],
   "source": [
    "#find any duplicates\n",
    "new_df_batch[new_df_batch['WorkerId'].duplicated(keep=False)]"
   ]
  },
  {
   "cell_type": "code",
   "execution_count": 11,
   "metadata": {},
   "outputs": [],
   "source": [
    "# drop duplicate workers\n",
    "new_df_batch = new_df_batch.drop_duplicates('WorkerId')"
   ]
  },
  {
   "cell_type": "code",
   "execution_count": 12,
   "metadata": {},
   "outputs": [
    {
     "output_type": "stream",
     "name": "stdout",
     "text": [
      "Submission Error: AKSJ3C5O3V9RB (worker ID submitted due to technical difficulties, will message code, please do not reject, thank you very much.)\n"
     ]
    }
   ],
   "source": [
    "codes = new_df_batch['Answer.surveycode']\n",
    "new_df_dat = pd.DataFrame(columns=df_dat[0].columns)\n",
    "\n",
    "for code in codes:\n",
    "    if len(code) != 36: #screen out wrong survey code submissions       \n",
    "        print('Submission Error: {}'.format(code))\n",
    "        # print('{}: {}'.format(set(new_df_batch[new_df_batch['user'] == code]['user'])), code)\n",
    "    else:\n",
    "        for dat in df_dat:\n",
    "            temp = dat.loc[dat['user'] == code]\n",
    "            if temp.size != 0:\n",
    "                temp = temp.drop_duplicates('trial') #removing duplicates likely due to server errors (brings n>100 to n=100)\n",
    "                new_df_dat = new_df_dat.append(temp)\n",
    "                pass    "
   ]
  },
  {
   "cell_type": "code",
   "execution_count": 13,
   "metadata": {},
   "outputs": [
    {
     "output_type": "stream",
     "name": "stdout",
     "text": [
      "There are 150 total MTurkers\nThere are 149 Worker IDs\nThere are 148 matching completion codes\nThere are 168 total registration\n"
     ]
    }
   ],
   "source": [
    "print('There are {} total MTurkers\\nThere are {} Worker IDs\\nThere are {} matching completion codes\\nThere are {} total registration'.format(old_df_batch.shape[0], new_df_batch.shape[0], new_df_dat['user'].unique().size, df_dat_whole['user'].unique().size))"
   ]
  },
  {
   "cell_type": "code",
   "execution_count": 14,
   "metadata": {},
   "outputs": [
    {
     "output_type": "stream",
     "name": "stdout",
     "text": [
      "7ce48a3c-1cb8-47a2-8845-4d2948ab1f2a: 100\n",
      "93b2d37f-1482-4ca1-a360-6b247e94b3f3: 101\n",
      "d1d59f8d-fc03-40cd-8b2c-0118c8a521b1: 100\n",
      "76e5c11a-d9ba-4e6c-ae2c-9e67d1ee64de: 28\n",
      "8d1e7411-5206-4168-a1ec-c8786357e52e: 100\n",
      "95a9dad4-9d13-4030-a9ff-2ef029176a7d: 100\n",
      "f16190a3-4d9c-48e2-bd70-6023f7ebaa8a: 100\n",
      "bde987e9-2350-44d9-9d1b-4bda86299194: 100\n",
      "8c7f4898-2662-420e-9dac-e5745545ea65: 31\n",
      "422de2ad-6830-4fb6-b855-2d614e455bb1: 100\n",
      "6847badd-e25e-45fb-9024-606df1e0c615: 9\n",
      "0264dd9a-93c3-4bb0-b73c-d8a341c2f119: 100\n",
      "278256a4-4924-45f7-ab71-511f11df802a: 100\n",
      "7a6349a3-4b11-41aa-a25e-7007c886b68f: 45\n",
      "c413b1c4-b834-4e2b-afb5-4a7b2c29a818: 100\n",
      "c8ef9d48-2e60-45ef-b483-100b61edcf80: 100\n",
      "f2e5901c-b3a9-49fe-83ae-51e3319edc65: 15\n",
      "54806146-855d-4038-afd0-d0578230fb09: 100\n",
      "71a3202a-7e3b-4750-a098-3a36633885f9: 100\n",
      "ecee83c4-9460-4157-be71-47382a0bf0d4: 100\n",
      "592ca7e2-09e9-423a-996f-2ac59df76923: 100\n",
      "84b846d3-6a28-4c3b-814f-eaca107e61fd: 100\n",
      "b4c46b93-ce8b-48d5-8692-78bac6159279: 100\n",
      "7600cbb5-e672-430c-96f0-dbaee82ce76c: 100\n",
      "d7c3540c-17f9-4482-95cd-44bfb2f3da63: 100\n",
      "520a33dc-5e7f-44f3-85e7-968a80d5ba52: 100\n",
      "fe5c01ad-6c0a-4cb5-a873-e8aeba137818: 100\n",
      "f554e046-a38f-4914-a6d1-65d70f3901a1: 100\n",
      "d1da6636-c4d9-4391-b802-564fe2734f17: 99\n",
      "784e9353-6e5e-43c9-83c5-2a44ddf1685e: 100\n",
      "00a498aa-00e6-4d6f-871a-77efb4b851f3: 100\n",
      "7dce86f8-81d4-410e-a69b-07dceae49984: 100\n",
      "fd9149c9-702e-490a-8af0-a14607efe8db: 100\n",
      "9632ba4f-342b-4511-b32a-305b7c322e23: 100\n",
      "2f05d213-d605-4d99-9e96-7e6fbffe8114: 100\n",
      "9c35291d-b372-45b4-9d31-3b8b55e40443: 100\n",
      "e35a6adb-7dfb-455b-8940-b8bda9e847d1: 100\n",
      "e72b9f2e-fa1d-4ec1-b1ef-7150be271e81: 28\n",
      "13722ef0-c8dd-48ee-9225-47b460993cd5: 100\n",
      "0f3f6b64-525c-4b7f-8549-982fb7ccfa75: 100\n",
      "43985d2f-3b07-4879-a435-d5a65791217d: 100\n",
      "b889a15a-1b6e-4270-808c-23fa9fd33582: 100\n",
      "1b3ecbf2-324d-43d5-a0f1-636d2e8077eb: 100\n",
      "ea222fa8-1773-447e-a23c-9df335640d33: 100\n",
      "8701315a-59b9-4fa6-9f5f-4c85ad143a76: 100\n",
      "93ae5f07-fa19-4489-a30b-3117fc8361cf: 100\n",
      "1a2e76f8-cc41-40b2-a568-d5e639d68779: 4\n",
      "d56a03df-62ad-41b0-b52e-64349366065b: 100\n",
      "ac31c7ba-a658-4e62-b1c5-9db45d37d129: 100\n",
      "8df56094-d35e-4499-bc87-afd41028fef3: 100\n",
      "db22f491-9f49-40ef-a1f6-33eadd1f283c: 100\n",
      "eadb2928-a001-4a2c-92a7-0026d43c2566: 100\n",
      "706fe595-fcf5-4f8a-9d68-08e175aecdc5: 101\n",
      "94d0f9fd-14dd-4191-963e-e4b145625acc: 100\n",
      "4ccd2006-4f87-4db5-ae5f-386ca5ed73c1: 100\n",
      "d77604e1-cb54-47ac-a425-a1fe2e652624: 100\n",
      "ff08d0eb-031f-4311-b833-2619ac3cc002: 3\n",
      "04ab4405-c1ce-459e-9b16-da61f60b9fce: 100\n",
      "46de6265-f8a6-4c18-8e29-9034af412615: 100\n",
      "a7dc2621-7c78-4134-bdb3-e069c93e8bdb: 100\n",
      "98f45756-8595-4464-9829-a1a6a4650eb5: 100\n",
      "d39c57b2-0e8a-4d52-b792-fe9d46b5af4a: 100\n",
      "55ba7440-718e-425e-aee9-8ceb5842b193: 100\n",
      "0697219b-edf0-4bca-8836-7b73757f6f9f: 21\n",
      "fb5dd4bc-eead-4ae1-ba6a-4ecf2019bad3: 100\n",
      "9bbc2220-1321-4f13-bab5-b762e310b7c1: 101\n",
      "b7c4352e-177a-4dd8-b51e-01acf29d8b87: 100\n",
      "c1605a02-6872-4ea9-ae2f-bf015d97ac3c: 100\n",
      "d63d3464-835c-41dd-b34f-30903be6125e: 100\n",
      "93691561-c9e8-4a4f-b9f1-d262f40ecd35: 105\n",
      "18307214-7db6-4f17-b264-cfcbe2836e8b: 100\n",
      "5d80a623-4a63-46b0-bb49-64b93cb0c470: 100\n",
      "874740fc-ee4b-4340-9f3e-d2e98237feb8: 100\n",
      "66c1de63-6325-44fc-8a5e-cbbc562d1bc9: 100\n",
      "22f095ef-f6ca-4922-bd52-846df9abba9b: 100\n",
      "9d43388a-6130-4691-9ca3-2cc1fe41a2af: 100\n",
      "13b0193f-8430-44e8-900c-a98cc66fe9df: 100\n",
      "64661713-f739-46d3-99c1-3aa7b42975c1: 101\n",
      "d32920c2-16d2-4eb5-b8e2-6b105bd99e73: 86\n",
      "38203bf7-73c6-4092-93d9-9e8288b83fb2: 100\n",
      "83737230-6f5e-4a2f-b8ff-3fbecf9dbcd5: 100\n",
      "112c17b5-9dec-4377-b558-74266ad8b660: 100\n",
      "d351e46b-9a67-4fa5-b45f-3110fd01ef4e: 100\n",
      "3dc7c9a8-2782-4e41-886f-5fc94461d0ca: 100\n",
      "50a28b14-4f4e-42e4-9b0e-a0931c6067d1: 100\n",
      "36c04674-62c8-4f4c-a1b1-ec6a12badf01: 99\n",
      "7aae45c9-1aa0-415b-a60a-70deda6437f2: 100\n",
      "c57d0f35-0130-42f8-851a-ff5f0a70a86c: 100\n",
      "57c49f18-4eda-4861-ace4-bb6070f4c694: 100\n",
      "18d11306-51b7-455a-9264-6b3ac21b8d92: 100\n",
      "9524d863-eb6e-4809-a76e-6b9c27d6fcd2: 100\n",
      "9589cdc8-47a6-4be7-ba74-63f851eaff9b: 100\n",
      "9e27c5ad-0c66-4f97-9f01-04d24760766c: 100\n",
      "f24ee384-b336-41d8-acc9-b773e1e1eb07: 39\n",
      "7242568e-27f0-4f8a-b6fd-2bb48df1b113: 100\n",
      "44552a11-4af2-4c3e-b5e4-2fb241b141ab: 100\n",
      "27265577-c0e0-4d27-8154-c91502cdd6c9: 100\n",
      "62a23695-36e6-4607-bc97-ed665d2c4404: 100\n",
      "6b63101e-e6b5-4d0a-83fd-09ba5d9e97e1: 100\n",
      "59c353bb-e6b8-4252-ba6d-6f58035e9859: 100\n",
      "74b4ef01-12a4-4e1b-b835-1cd3bb3081cb: 100\n",
      "6547bef2-4d84-4772-a917-61c36d001bd8: 100\n",
      "235dd184-49a3-41c2-9efa-4871eb33ddb9: 100\n",
      "a0acd2ef-a0b8-41c1-9275-a55ee2dbf3f7: 100\n",
      "f46e7487-19ff-451a-b941-9e3d56498ac1: 63\n",
      "95296bcd-e074-4f89-bc3f-766afddb6c12: 20\n",
      "e2b7745a-81ff-48b8-8334-1708180c58d4: 100\n",
      "dccce944-de34-4fe2-b4bd-451691047959: 100\n",
      "1c28ba88-ea83-4bef-baa7-b8b95dd045ce: 100\n",
      "734ab780-0cfe-4ab8-9a1e-2068d33480ba: 100\n",
      "f42eda1a-f58d-443a-b8c9-2b7231dba977: 100\n",
      "713a575b-5c81-4b1a-9d4c-3bfbb2efefd7: 100\n",
      "d08e67b9-efd0-42b8-b3a0-17f8fe4f52a2: 100\n",
      "9de97d9d-dead-4f5b-9ac4-30953edc8521: 100\n",
      "da0163b2-5324-49d0-8e79-aee90a294cf8: 100\n",
      "ce002466-ba12-475f-b8fe-2fdc675164aa: 100\n",
      "eeb43ea1-96e8-47ee-a2db-dc638b13bee7: 20\n",
      "ce4866f4-ecca-4006-9930-c0bc3f97b68d: 100\n",
      "d9668085-1a34-47bf-a0a7-20a080c7d234: 100\n",
      "aac8c32a-f866-414b-8ef5-714392d0a906: 100\n",
      "d96b10b3-b36b-4616-ac35-b408559a737b: 1\n",
      "04d055d8-974d-40c0-a277-590fe8ad3b05: 100\n",
      "3824b1d7-f8c3-4834-88e6-109c44df7a62: 100\n",
      "85cc7931-a215-439d-afc2-cab7de1f5b49: 100\n",
      "e62af63f-9852-405a-9737-231e50242734: 100\n",
      "12756fb7-1181-409e-97f3-fe99ea8e5313: 100\n",
      "7a5bd8df-e71c-4c5f-bcb4-75e23efe3a8c: 100\n",
      "8a0f35db-ffbf-4245-99f0-959d49f5e4dc: 100\n",
      "0a807f76-e6c5-42ed-95e7-3350e7c67915: 100\n",
      "298a761d-dcd6-43ac-9eaa-fa6d2cea6c86: 21\n",
      "38582eb7-5ac7-4836-b537-03312643037e: 100\n",
      "41299fc0-5a1b-4039-a652-e56271620ce0: 100\n",
      "0965127f-3b1c-4e0b-b89c-4253940b9bda: 100\n",
      "c8c8e7c3-1834-4c2f-bb78-e16b532cb9dc: 100\n",
      "5dc57488-80df-44ff-83ee-6f74f029ab94: 100\n",
      "a2cdf1da-5aa1-40c8-94ed-471a4b1fd78d: 100\n",
      "432867be-3031-47f9-aadc-d468489a4596: 100\n",
      "bacec3c9-b969-4b4e-a8bb-04447f750bc3: 100\n",
      "0155a018-0908-43a2-97c9-f5bd5e1e2813: 100\n",
      "2949248c-b690-4a9e-9f81-03cbc7b5a278: 100\n",
      "ea51af5b-0212-4c7c-862d-76dd4d6208e2: 100\n",
      "347dff69-9ef3-4096-8700-bd874136d7a6: 102\n",
      "0ec33481-2993-41dd-b4ea-356ae1640b82: 8\n",
      "6558a331-ee8e-4d70-86dc-4019b0673750: 100\n",
      "3c4ad156-8243-41ce-9586-898d3ed51eb8: 100\n",
      "6264fbc4-f71d-4fbf-ad47-8593724dc742: 101\n",
      "1a62cc5c-7140-456a-a232-ced17a2d8ffc: 100\n",
      "3ecf9f64-29b2-40c4-b78c-d7c2b3f3fa01: 103\n",
      "20732ea8-cba0-4509-b94f-7b8814fbc098: 100\n",
      "1ea752f4-be23-4aa6-a039-7e014600b4d7: 100\n",
      "30251a23-81cc-4419-bee7-8015addf4471: 101\n",
      "07ecd8db-c7b4-4bde-95e0-1eec32f6d73f: 100\n",
      "aea693a7-3100-4c96-946d-81961be3dfeb: 101\n",
      "3da4d625-5f65-4c82-b559-2bb37bee4af5: 100\n",
      "b7fcda93-2fad-461a-9d34-e16edf6c3a2f: 93\n",
      "040335bb-bb7c-4d66-b9ea-73bab4e24443: 100\n",
      "210d2dfd-3f22-499b-804c-1c82250ee46e: 100\n",
      "eb0162e1-dd64-4d42-a44a-f7154ae858bc: 100\n",
      "14acf634-faaa-415e-8096-95e474be0f76: 100\n",
      "bc2523e9-579b-4871-a147-ee9b1e1536bd: 100\n",
      "f1f8aa61-f5b4-4a96-95f6-8808b966adf5: 100\n",
      "7c648693-1d93-4193-bbc5-8ea76c5c0a6e: 100\n",
      "60a1d705-82cb-4919-ac39-f2fd4fa861e9: 100\n",
      "189efc73-db8a-428d-bcf8-c20ce9ab883a: 100\n",
      "b0b10992-aaa4-44c9-b974-4ec2f924b233: 103\n",
      "b59b8157-77b1-406b-9c9d-fd9928697326: 100\n",
      "5a571ec7-99a6-4048-865b-490bc4dfddaf: 100\n",
      "83a15b8a-fa66-424c-ac18-367847f0feca: 100\n"
     ]
    }
   ],
   "source": [
    "df_dat_whole = df_dat[0].append(df_dat[1])\n",
    "\n",
    "newlist = set(df_dat_whole['user'])\n",
    "for lst in newlist:\n",
    "    print('{}: {}'.format(lst, df_dat_whole[df_dat_whole['user'] == lst]['trial'].size))"
   ]
  },
  {
   "cell_type": "code",
   "execution_count": 15,
   "metadata": {},
   "outputs": [],
   "source": [
    "# output final raw database as an excel file (this does not screen out participants who failed to pass the catch trial)\n",
    "if save:\n",
    "    new_df_dat.to_excel('MTurk_data.xlsx', index=False)"
   ]
  },
  {
   "cell_type": "code",
   "execution_count": 16,
   "metadata": {},
   "outputs": [],
   "source": [
    "# making a score profile\n",
    "lst_id = set(new_df_dat['user'])\n",
    "\n",
    "df_score = pd.DataFrame(columns=['user', 'score', 'sample', 'comment'])\n",
    "\n",
    "for userid in lst_id:\n",
    "    temp = new_df_dat.loc[new_df_dat['user'] == userid]['score']\n",
    "    max_score = temp.max()\n",
    "    sample = temp.size\n",
    "    if new_df_comment.loc[new_df_comment['user'] == userid]['comment'].size != 0:\n",
    "        temp = new_df_comment.loc[new_df_comment['user'] == userid]['comment'].iloc[0]\n",
    "        if str(temp) != 'nan':\n",
    "            comment = temp\n",
    "        else:\n",
    "            comment = 'N/A'\n",
    "    else:\n",
    "        comment = 'N/A'\n",
    "    df_score = df_score.append(pd.DataFrame([[userid, max_score, sample, comment]], columns=['user', 'score', 'sample', 'comment']))"
   ]
  },
  {
   "cell_type": "code",
   "execution_count": 17,
   "metadata": {},
   "outputs": [],
   "source": [
    "if save:\n",
    "    df_score.to_excel('MTurk_score_profile.xlsx', index=False)"
   ]
  },
  {
   "cell_type": "code",
   "execution_count": 18,
   "metadata": {},
   "outputs": [
    {
     "output_type": "execute_result",
     "data": {
      "text/plain": [
       "                                   user score sample comment\n",
       "0  d1da6636-c4d9-4391-b802-564fe2734f17     4     99     N/A\n",
       "0  36c04674-62c8-4f4c-a1b1-ec6a12badf01     4     99     N/A"
      ],
      "text/html": "<div>\n<style scoped>\n    .dataframe tbody tr th:only-of-type {\n        vertical-align: middle;\n    }\n\n    .dataframe tbody tr th {\n        vertical-align: top;\n    }\n\n    .dataframe thead th {\n        text-align: right;\n    }\n</style>\n<table border=\"1\" class=\"dataframe\">\n  <thead>\n    <tr style=\"text-align: right;\">\n      <th></th>\n      <th>user</th>\n      <th>score</th>\n      <th>sample</th>\n      <th>comment</th>\n    </tr>\n  </thead>\n  <tbody>\n    <tr>\n      <th>0</th>\n      <td>d1da6636-c4d9-4391-b802-564fe2734f17</td>\n      <td>4</td>\n      <td>99</td>\n      <td>N/A</td>\n    </tr>\n    <tr>\n      <th>0</th>\n      <td>36c04674-62c8-4f4c-a1b1-ec6a12badf01</td>\n      <td>4</td>\n      <td>99</td>\n      <td>N/A</td>\n    </tr>\n  </tbody>\n</table>\n</div>"
     },
     "metadata": {},
     "execution_count": 18
    }
   ],
   "source": [
    "df_score.loc[df_score['sample'] != 100]"
   ]
  },
  {
   "cell_type": "code",
   "execution_count": 19,
   "metadata": {},
   "outputs": [
    {
     "output_type": "execute_result",
     "data": {
      "text/plain": [
       "                                   user score sample  \\\n",
       "0  c413b1c4-b834-4e2b-afb5-4a7b2c29a818     2    100   \n",
       "0  592ca7e2-09e9-423a-996f-2ac59df76923     2    100   \n",
       "0  b4c46b93-ce8b-48d5-8692-78bac6159279     2    100   \n",
       "0  f554e046-a38f-4914-a6d1-65d70f3901a1     1    100   \n",
       "0  e35a6adb-7dfb-455b-8940-b8bda9e847d1     0    100   \n",
       "0  0f3f6b64-525c-4b7f-8549-982fb7ccfa75     3    100   \n",
       "0  b889a15a-1b6e-4270-808c-23fa9fd33582     3    100   \n",
       "0  d77604e1-cb54-47ac-a425-a1fe2e652624     3    100   \n",
       "0  98f45756-8595-4464-9829-a1a6a4650eb5     3    100   \n",
       "0  c1605a02-6872-4ea9-ae2f-bf015d97ac3c     3    100   \n",
       "0  d63d3464-835c-41dd-b34f-30903be6125e     3    100   \n",
       "0  64661713-f739-46d3-99c1-3aa7b42975c1     3    100   \n",
       "0  7242568e-27f0-4f8a-b6fd-2bb48df1b113     2    100   \n",
       "0  62a23695-36e6-4607-bc97-ed665d2c4404     3    100   \n",
       "0  6b63101e-e6b5-4d0a-83fd-09ba5d9e97e1     3    100   \n",
       "0  ce002466-ba12-475f-b8fe-2fdc675164aa     0    100   \n",
       "0  0965127f-3b1c-4e0b-b89c-4253940b9bda     3    100   \n",
       "0  432867be-3031-47f9-aadc-d468489a4596     1    100   \n",
       "0  2949248c-b690-4a9e-9f81-03cbc7b5a278     3    100   \n",
       "0  20732ea8-cba0-4509-b94f-7b8814fbc098     2    100   \n",
       "0  1ea752f4-be23-4aa6-a039-7e014600b4d7     2    100   \n",
       "0  aea693a7-3100-4c96-946d-81961be3dfeb     3    100   \n",
       "\n",
       "                                             comment  \n",
       "0                                                N/A  \n",
       "0                                                N/A  \n",
       "0                                                N/A  \n",
       "0  This was interesting, I have no idea how I did...  \n",
       "0                                               good  \n",
       "0                                               none  \n",
       "0                                          good task  \n",
       "0   This was neat and it all worked well, thank you.  \n",
       "0                                               None  \n",
       "0  It was pretty hard to know what the patterns w...  \n",
       "0                                                N/A  \n",
       "0                                                N/A  \n",
       "0                                                N/A  \n",
       "0                               Very enjoyable study  \n",
       "0                                                N/A  \n",
       "0                                               good  \n",
       "0  I hope I did a decent job on your HIT. Thank y...  \n",
       "0                                 good and best task  \n",
       "0                                                N/A  \n",
       "0                                       Interesting.  \n",
       "0                                          good work  \n",
       "0                                                N/A  "
      ],
      "text/html": "<div>\n<style scoped>\n    .dataframe tbody tr th:only-of-type {\n        vertical-align: middle;\n    }\n\n    .dataframe tbody tr th {\n        vertical-align: top;\n    }\n\n    .dataframe thead th {\n        text-align: right;\n    }\n</style>\n<table border=\"1\" class=\"dataframe\">\n  <thead>\n    <tr style=\"text-align: right;\">\n      <th></th>\n      <th>user</th>\n      <th>score</th>\n      <th>sample</th>\n      <th>comment</th>\n    </tr>\n  </thead>\n  <tbody>\n    <tr>\n      <th>0</th>\n      <td>c413b1c4-b834-4e2b-afb5-4a7b2c29a818</td>\n      <td>2</td>\n      <td>100</td>\n      <td>N/A</td>\n    </tr>\n    <tr>\n      <th>0</th>\n      <td>592ca7e2-09e9-423a-996f-2ac59df76923</td>\n      <td>2</td>\n      <td>100</td>\n      <td>N/A</td>\n    </tr>\n    <tr>\n      <th>0</th>\n      <td>b4c46b93-ce8b-48d5-8692-78bac6159279</td>\n      <td>2</td>\n      <td>100</td>\n      <td>N/A</td>\n    </tr>\n    <tr>\n      <th>0</th>\n      <td>f554e046-a38f-4914-a6d1-65d70f3901a1</td>\n      <td>1</td>\n      <td>100</td>\n      <td>This was interesting, I have no idea how I did...</td>\n    </tr>\n    <tr>\n      <th>0</th>\n      <td>e35a6adb-7dfb-455b-8940-b8bda9e847d1</td>\n      <td>0</td>\n      <td>100</td>\n      <td>good</td>\n    </tr>\n    <tr>\n      <th>0</th>\n      <td>0f3f6b64-525c-4b7f-8549-982fb7ccfa75</td>\n      <td>3</td>\n      <td>100</td>\n      <td>none</td>\n    </tr>\n    <tr>\n      <th>0</th>\n      <td>b889a15a-1b6e-4270-808c-23fa9fd33582</td>\n      <td>3</td>\n      <td>100</td>\n      <td>good task</td>\n    </tr>\n    <tr>\n      <th>0</th>\n      <td>d77604e1-cb54-47ac-a425-a1fe2e652624</td>\n      <td>3</td>\n      <td>100</td>\n      <td>This was neat and it all worked well, thank you.</td>\n    </tr>\n    <tr>\n      <th>0</th>\n      <td>98f45756-8595-4464-9829-a1a6a4650eb5</td>\n      <td>3</td>\n      <td>100</td>\n      <td>None</td>\n    </tr>\n    <tr>\n      <th>0</th>\n      <td>c1605a02-6872-4ea9-ae2f-bf015d97ac3c</td>\n      <td>3</td>\n      <td>100</td>\n      <td>It was pretty hard to know what the patterns w...</td>\n    </tr>\n    <tr>\n      <th>0</th>\n      <td>d63d3464-835c-41dd-b34f-30903be6125e</td>\n      <td>3</td>\n      <td>100</td>\n      <td>N/A</td>\n    </tr>\n    <tr>\n      <th>0</th>\n      <td>64661713-f739-46d3-99c1-3aa7b42975c1</td>\n      <td>3</td>\n      <td>100</td>\n      <td>N/A</td>\n    </tr>\n    <tr>\n      <th>0</th>\n      <td>7242568e-27f0-4f8a-b6fd-2bb48df1b113</td>\n      <td>2</td>\n      <td>100</td>\n      <td>N/A</td>\n    </tr>\n    <tr>\n      <th>0</th>\n      <td>62a23695-36e6-4607-bc97-ed665d2c4404</td>\n      <td>3</td>\n      <td>100</td>\n      <td>Very enjoyable study</td>\n    </tr>\n    <tr>\n      <th>0</th>\n      <td>6b63101e-e6b5-4d0a-83fd-09ba5d9e97e1</td>\n      <td>3</td>\n      <td>100</td>\n      <td>N/A</td>\n    </tr>\n    <tr>\n      <th>0</th>\n      <td>ce002466-ba12-475f-b8fe-2fdc675164aa</td>\n      <td>0</td>\n      <td>100</td>\n      <td>good</td>\n    </tr>\n    <tr>\n      <th>0</th>\n      <td>0965127f-3b1c-4e0b-b89c-4253940b9bda</td>\n      <td>3</td>\n      <td>100</td>\n      <td>I hope I did a decent job on your HIT. Thank y...</td>\n    </tr>\n    <tr>\n      <th>0</th>\n      <td>432867be-3031-47f9-aadc-d468489a4596</td>\n      <td>1</td>\n      <td>100</td>\n      <td>good and best task</td>\n    </tr>\n    <tr>\n      <th>0</th>\n      <td>2949248c-b690-4a9e-9f81-03cbc7b5a278</td>\n      <td>3</td>\n      <td>100</td>\n      <td>N/A</td>\n    </tr>\n    <tr>\n      <th>0</th>\n      <td>20732ea8-cba0-4509-b94f-7b8814fbc098</td>\n      <td>2</td>\n      <td>100</td>\n      <td>Interesting.</td>\n    </tr>\n    <tr>\n      <th>0</th>\n      <td>1ea752f4-be23-4aa6-a039-7e014600b4d7</td>\n      <td>2</td>\n      <td>100</td>\n      <td>good work</td>\n    </tr>\n    <tr>\n      <th>0</th>\n      <td>aea693a7-3100-4c96-946d-81961be3dfeb</td>\n      <td>3</td>\n      <td>100</td>\n      <td>N/A</td>\n    </tr>\n  </tbody>\n</table>\n</div>"
     },
     "metadata": {},
     "execution_count": 19
    }
   ],
   "source": [
    "# disqualified list\n",
    "df_score.loc[df_score['score'] < 4]"
   ]
  },
  {
   "cell_type": "code",
   "execution_count": 20,
   "metadata": {},
   "outputs": [
    {
     "output_type": "execute_result",
     "data": {
      "text/plain": [
       "                                                                                                comment\n",
       "0                                                                                                  none\n",
       "1                                                The experiment was very laggy and crashed on me twice.\n",
       "2                                                      The site/server is very slow loading each page. \n",
       "3                                                                               No feedback; thank you.\n",
       "4                                I wish there was an example of the four small swirls in the pre test. \n",
       "5                                                                                           It was fun!\n",
       "6   I found some of the harder predictions more interesting (such as the tightly formed spirals). I ...\n",
       "7                                                                                            Interested\n",
       "8                                                                                              Enjoyed!\n",
       "9                                                                        I have no additional comments.\n",
       "10                                                     The task was fab, thank you for the opportunity.\n",
       "11                        This was interesting, I have no idea how I did. I would be interested in that\n",
       "12                                                                                                 good\n",
       "13                                       It was enjoyable...maybe a bonus would make it more enjoyable.\n",
       "14                                                                                                 none\n",
       "15                                                                                                 good\n",
       "16                                                    Thanks for the opportunity, I hope my data helps.\n",
       "17                                                                                                 none\n",
       "18                                                                                            good task\n",
       "19                        I had to do it twice. The application broke about 25% into it the first time.\n",
       "20                                                                                                 none\n",
       "21                                                     This was neat and it all worked well, thank you.\n",
       "22                                               I found the task to be quite engaging to take part in.\n",
       "23                                                                                                 None\n",
       "24          Not sure why the training was so different from the main task? Guessing it was by design...\n",
       "25             This was extremely slow loading. I ended up waiting for way too long between each trial.\n",
       "26  It was pretty hard to know what the patterns would be beyond the inner space for the ones where ...\n",
       "27                                                                         Loaded VERY slowly at first.\n",
       "28                                          thank you for the opportunity to participate in this study.\n",
       "29                                                                                            No issues\n",
       "30                                                                                                 none\n",
       "31                                                                                           Thank you.\n",
       "32                              I'm very curious to see how I did.  Some of them were very challenging!\n",
       "33  Some screens were hard to move the slider. The limited information on the blob clusters was diff...\n",
       "34                                                                                   good and best task\n",
       "35                                                                                       That was hard!\n",
       "36                                                    No negative Comments. Everything will be alright.\n",
       "37                                                                                               Thanks\n",
       "38                                                                                                 GOOD\n",
       "39                                                                                  It was interesting \n",
       "40                                                                                                 none\n",
       "41                                                                                  All good, thank you\n",
       "42                                                                       Thank you for the opportunity!\n",
       "43                                                                                 Very enjoyable study\n",
       "44                                                It takes a while for each of the 100 tests to submit.\n",
       "45                                                                                   good and best task\n",
       "46                                                                                     Completely clear\n",
       "47                                                                                              Thanks!\n",
       "48                                  I have no feedback.\\n\\n\\nGood luck in your research/study findings.\n",
       "49                                                                                          no comments"
      ],
      "text/html": "<div>\n<style scoped>\n    .dataframe tbody tr th:only-of-type {\n        vertical-align: middle;\n    }\n\n    .dataframe tbody tr th {\n        vertical-align: top;\n    }\n\n    .dataframe thead th {\n        text-align: right;\n    }\n</style>\n<table border=\"1\" class=\"dataframe\">\n  <thead>\n    <tr style=\"text-align: right;\">\n      <th></th>\n      <th>comment</th>\n    </tr>\n  </thead>\n  <tbody>\n    <tr>\n      <th>0</th>\n      <td>none</td>\n    </tr>\n    <tr>\n      <th>1</th>\n      <td>The experiment was very laggy and crashed on me twice.</td>\n    </tr>\n    <tr>\n      <th>2</th>\n      <td>The site/server is very slow loading each page.</td>\n    </tr>\n    <tr>\n      <th>3</th>\n      <td>No feedback; thank you.</td>\n    </tr>\n    <tr>\n      <th>4</th>\n      <td>I wish there was an example of the four small swirls in the pre test.</td>\n    </tr>\n    <tr>\n      <th>5</th>\n      <td>It was fun!</td>\n    </tr>\n    <tr>\n      <th>6</th>\n      <td>I found some of the harder predictions more interesting (such as the tightly formed spirals). I ...</td>\n    </tr>\n    <tr>\n      <th>7</th>\n      <td>Interested</td>\n    </tr>\n    <tr>\n      <th>8</th>\n      <td>Enjoyed!</td>\n    </tr>\n    <tr>\n      <th>9</th>\n      <td>I have no additional comments.</td>\n    </tr>\n    <tr>\n      <th>10</th>\n      <td>The task was fab, thank you for the opportunity.</td>\n    </tr>\n    <tr>\n      <th>11</th>\n      <td>This was interesting, I have no idea how I did. I would be interested in that</td>\n    </tr>\n    <tr>\n      <th>12</th>\n      <td>good</td>\n    </tr>\n    <tr>\n      <th>13</th>\n      <td>It was enjoyable...maybe a bonus would make it more enjoyable.</td>\n    </tr>\n    <tr>\n      <th>14</th>\n      <td>none</td>\n    </tr>\n    <tr>\n      <th>15</th>\n      <td>good</td>\n    </tr>\n    <tr>\n      <th>16</th>\n      <td>Thanks for the opportunity, I hope my data helps.</td>\n    </tr>\n    <tr>\n      <th>17</th>\n      <td>none</td>\n    </tr>\n    <tr>\n      <th>18</th>\n      <td>good task</td>\n    </tr>\n    <tr>\n      <th>19</th>\n      <td>I had to do it twice. The application broke about 25% into it the first time.</td>\n    </tr>\n    <tr>\n      <th>20</th>\n      <td>none</td>\n    </tr>\n    <tr>\n      <th>21</th>\n      <td>This was neat and it all worked well, thank you.</td>\n    </tr>\n    <tr>\n      <th>22</th>\n      <td>I found the task to be quite engaging to take part in.</td>\n    </tr>\n    <tr>\n      <th>23</th>\n      <td>None</td>\n    </tr>\n    <tr>\n      <th>24</th>\n      <td>Not sure why the training was so different from the main task? Guessing it was by design...</td>\n    </tr>\n    <tr>\n      <th>25</th>\n      <td>This was extremely slow loading. I ended up waiting for way too long between each trial.</td>\n    </tr>\n    <tr>\n      <th>26</th>\n      <td>It was pretty hard to know what the patterns would be beyond the inner space for the ones where ...</td>\n    </tr>\n    <tr>\n      <th>27</th>\n      <td>Loaded VERY slowly at first.</td>\n    </tr>\n    <tr>\n      <th>28</th>\n      <td>thank you for the opportunity to participate in this study.</td>\n    </tr>\n    <tr>\n      <th>29</th>\n      <td>No issues</td>\n    </tr>\n    <tr>\n      <th>30</th>\n      <td>none</td>\n    </tr>\n    <tr>\n      <th>31</th>\n      <td>Thank you.</td>\n    </tr>\n    <tr>\n      <th>32</th>\n      <td>I'm very curious to see how I did.  Some of them were very challenging!</td>\n    </tr>\n    <tr>\n      <th>33</th>\n      <td>Some screens were hard to move the slider. The limited information on the blob clusters was diff...</td>\n    </tr>\n    <tr>\n      <th>34</th>\n      <td>good and best task</td>\n    </tr>\n    <tr>\n      <th>35</th>\n      <td>That was hard!</td>\n    </tr>\n    <tr>\n      <th>36</th>\n      <td>No negative Comments. Everything will be alright.</td>\n    </tr>\n    <tr>\n      <th>37</th>\n      <td>Thanks</td>\n    </tr>\n    <tr>\n      <th>38</th>\n      <td>GOOD</td>\n    </tr>\n    <tr>\n      <th>39</th>\n      <td>It was interesting</td>\n    </tr>\n    <tr>\n      <th>40</th>\n      <td>none</td>\n    </tr>\n    <tr>\n      <th>41</th>\n      <td>All good, thank you</td>\n    </tr>\n    <tr>\n      <th>42</th>\n      <td>Thank you for the opportunity!</td>\n    </tr>\n    <tr>\n      <th>43</th>\n      <td>Very enjoyable study</td>\n    </tr>\n    <tr>\n      <th>44</th>\n      <td>It takes a while for each of the 100 tests to submit.</td>\n    </tr>\n    <tr>\n      <th>45</th>\n      <td>good and best task</td>\n    </tr>\n    <tr>\n      <th>46</th>\n      <td>Completely clear</td>\n    </tr>\n    <tr>\n      <th>47</th>\n      <td>Thanks!</td>\n    </tr>\n    <tr>\n      <th>48</th>\n      <td>I have no feedback.\\n\\n\\nGood luck in your research/study findings.</td>\n    </tr>\n    <tr>\n      <th>49</th>\n      <td>no comments</td>\n    </tr>\n  </tbody>\n</table>\n</div>"
     },
     "metadata": {},
     "execution_count": 20
    }
   ],
   "source": [
    "#exporting user comments only\n",
    "pd.set_option(\"max_colwidth\", 100)\n",
    "\n",
    "valid_comments = pd.DataFrame(df_score[df_score['comment'] != 'N/A']['comment']).reset_index(drop=True)\n",
    "if save:\n",
    "    valid_comments.to_excel('User_comments.xlsx')\n",
    "valid_comments.head(50)"
   ]
  },
  {
   "cell_type": "code",
   "execution_count": 21,
   "metadata": {},
   "outputs": [
    {
     "output_type": "stream",
     "name": "stdout",
     "text": [
      "There are 126 subjects who passed the catch trials\n"
     ]
    }
   ],
   "source": [
    "bool_screen = (df_score['score'] >= 4) #* (df_score['sample'] == 100) #catch trial\n",
    "id_list = df_score.loc[bool_screen]['user'].tolist() #make a ID list of the subjects meeting the criteria\n",
    "print('There are {} subjects who passed the catch trials'.format(len(id_list)))"
   ]
  },
  {
   "cell_type": "code",
   "execution_count": 22,
   "metadata": {},
   "outputs": [],
   "source": [
    "new_df_dat_real = pd.DataFrame(columns=new_df_dat.columns)\n",
    "\n",
    "for id_i in id_list:\n",
    "    new_df_dat_real = new_df_dat_real.append(new_df_dat.loc[new_df_dat['user'] == id_i])"
   ]
  },
  {
   "cell_type": "code",
   "execution_count": 23,
   "metadata": {},
   "outputs": [
    {
     "output_type": "stream",
     "name": "stderr",
     "text": [
      "C:\\Users\\jongm\\AppData\\Local\\Packages\\PythonSoftwareFoundation.Python.3.8_qbz5n2kfra8p0\\LocalCache\\local-packages\\Python38\\site-packages\\pandas\\core\\indexing.py:1636: SettingWithCopyWarning: \nA value is trying to be set on a copy of a slice from a DataFrame\n\nSee the caveats in the documentation: https://pandas.pydata.org/pandas-docs/stable/user_guide/indexing.html#returning-a-view-versus-a-copy\n  self._setitem_single_block(indexer, value, name)\n"
     ]
    }
   ],
   "source": [
    "# compute euclidean distance\n",
    "new_df_dat_real['d'] = '' # adding new column\n",
    "new_df_dat_real['y'] = '' # separate column for coordinate\n",
    "\n",
    "for i in range(new_df_dat_real.shape[0]):\n",
    "    temp_char = new_df_dat_real.iloc[i]['x'][1:-1]\n",
    "    comma = temp_char.rfind(',')\n",
    "    x = float(temp_char[:comma])\n",
    "    y = float(temp_char[comma+1:])\n",
    "    new_df_dat_real['x'].iloc[i] = x\n",
    "    new_df_dat_real['y'].iloc[i] = y\n",
    "    new_df_dat_real['d'].iloc[i] = np.sqrt(x**2 + y**2)"
   ]
  },
  {
   "cell_type": "code",
   "execution_count": 24,
   "metadata": {},
   "outputs": [],
   "source": [
    "#extra screening\n",
    "# for user_i in new_df_dat_real[new_df_dat_real['mtype'] == 2][-300:-200]['user'].unique():\n",
    "#     new_df_dat_real = new_df_dat_real[new_df_dat_real['user'] != user_i]"
   ]
  },
  {
   "cell_type": "code",
   "execution_count": 25,
   "metadata": {},
   "outputs": [
    {
     "output_type": "execute_result",
     "data": {
      "text/plain": [
       "(12598, 7)"
      ]
     },
     "metadata": {},
     "execution_count": 25
    }
   ],
   "source": [
    "#extract [est, real, mtype, d]\n",
    "output = np.array(new_df_dat_real[['est', 'real', 'mtype', 'x', 'd', 'y', 'user']])\n",
    "output.shape"
   ]
  },
  {
   "cell_type": "code",
   "execution_count": 26,
   "metadata": {},
   "outputs": [],
   "source": [
    "# final output of the cleaned database\n",
    "filename = 'MTurk_ds.pickle'\n",
    "\n",
    "if save:\n",
    "    with open(filename, 'wb') as f:\n",
    "        pickle.dump(output, f)"
   ]
  },
  {
   "cell_type": "code",
   "execution_count": 27,
   "metadata": {},
   "outputs": [
    {
     "output_type": "execute_result",
     "data": {
      "text/plain": [
       "55.07997762863535"
      ]
     },
     "metadata": {},
     "execution_count": 27
    }
   ],
   "source": [
    "#average time stayed on MTurk\n",
    "new_df_batch.drop_duplicates('WorkerId')['WorkTimeInSeconds'].mean()/60"
   ]
  },
  {
   "cell_type": "code",
   "execution_count": 28,
   "metadata": {},
   "outputs": [
    {
     "output_type": "execute_result",
     "data": {
      "text/plain": [
       "16.304100529100527"
      ]
     },
     "metadata": {},
     "execution_count": 28
    }
   ],
   "source": [
    "#average time took to complete\n",
    "list_duration = []\n",
    "\n",
    "for id_i in id_list:\n",
    "    temp_df = new_df_dat_real[new_df_dat_real['user'] == id_i]\n",
    "    t_1 = temp_df[temp_df['trial'] == 1]['date_created'].iloc[0]\n",
    "    # t_50 = temp_df[temp_df['trial'] == 50]['date_created'].iloc[0]\n",
    "    t_100 = temp_df[temp_df['trial'] == 100]['date_created'].iloc[0]\n",
    "    list_duration.append((t_100-t_1).seconds)\n",
    "\n",
    "np.mean(list_duration) / 60"
   ]
  },
  {
   "source": [
    "## Update user list with do not repeat feature"
   ],
   "cell_type": "markdown",
   "metadata": {}
  },
  {
   "cell_type": "code",
   "execution_count": 29,
   "metadata": {},
   "outputs": [],
   "source": [
    "filename = 'User_1237902_workers.csv'\n",
    "\n",
    "df_MT = pd.read_csv(filename)\n",
    "df_MT = df_MT.astype(object) #must be object otherwise MTurk does not recognize"
   ]
  },
  {
   "cell_type": "code",
   "execution_count": 30,
   "metadata": {},
   "outputs": [
    {
     "output_type": "stream",
     "name": "stdout",
     "text": [
      "1: A10JXOU89D5RXR\n2: A12FCLCVIM2CL3\n3: A12FTSX85NQ8N9\n4: A13WTEQ06V3B6D\n5: A153HLAVH5FILS\n6: A17K1CHOI773VZ\n7: A183WYXN12P2TJ\n8: A18G2CLYSTENK\n9: A1969Q0R4Y0E3J\n10: A19ZWBQT8A3LIR\n11: A1AZ97YYFVWFGC\n12: A1CPY1HLCFTIL1\n13: A1D6V3CKUT95LJ\n14: A1DD23J1WBGQUU\n15: A1DZMZTXWOM9MR\n16: A1F5E941TP0UIZ\n17: A1F9KLZGHE9DTA\n18: A1GW09ZJF0RXTB\n19: A1LA6CIGBNDOH9\n20: A1LRJ4U04532TM\n21: A1NLJ1L4VCQYV2\n22: A1ODA3Q5H6HTDQ\n23: A1P2RQ166VS5BT\n24: A1P5FJPAEO3RP7\n25: A1P6OXEJ86HQRM\n26: A1PTH9KTRO06EG\n27: A1QKIA8XRNEXIG\n28: A1RV2LERVS0A4H\n29: A1SH6BOQT9K5VT\n30: A1SHLWKA0UH1IS\n31: A1SLJKNSNHOJRN\n32: A1W7I6FN183I8F\n33: A1XVEKS9O73ERE\n34: A1YZ0ETOCJO1B2\n35: A1ZI4VU6650Q8B\n36: A2196WCNDZULFS\n37: A22DF0EWILGRLV\n38: A22DVMN2Y3XHWA\n39: A22T69YW4WUANF\n40: A22W4Y4UI182L2\n41: A256FHXGSY0E5D\n42: A25R2OI9L2Q1OW\n43: A26M997VYVK0E6\n44: A26NGLGGFTATVN\n45: A270HX8LH9LJ8W\n46: A2BBJ85QRHJCQO\n47: A2CEGS0NVDBCPT\n48: A2CWADQFILGY80\n49: A2EJ7U3TZAKROG\n50: A2FYFCD16Z3PCC\n51: A2G8FL7APWI0YS\n52: A2GNG7DWHQA6ZZ\n53: A2HU2D8889A2FV\n54: A2IQ0QCTQ3KWLT\n55: A2KJC61HA06JEF\n56: A2LMQ4497NMK3S\n57: A2MCG5W6LHSRG9\n58: A2NT3OQZUUZPEO\n59: A2NUGRVI6IEGN7\n60: A2O5Z1YZDTNNXT\n61: A2OO4PG3LBLP5I\n62: A2PSR3CMNR1R9X\n63: A2VO8C41JJIQY9\n64: A2VRDE2FHCBMF8\n65: A2WUXZOY4CRF5R\n66: A2XHNHSBAHOGHZ\n67: A2XQ3CFB5HT2ZQ\n68: A2Y87M8V0N1M6P\n69: A2Z6NL0CTXY0ZB\n70: A2ZJS73XSSMRTD\n71: A2ZPSPA0R8KSL8\n72: A30HUZHJBOX1LK\n73: A30NGIKN7761QK\n74: A313JEGCVV2UES\n75: A3388HIWAKD3DV\n76: A33DJF06UZXG3Y\n77: A34CPKFZXBX1PO\n78: A34SIGOLUGKIHJ\n79: A378DVZDTWCGQ7\n80: A37S96RT1P1IT2\n81: A38DXFI1TZA295\n82: A3B7TNVOISSZ2O\n83: A3C8JI69WPTKWH\n84: A3CAHROA74QYIE\n85: A3CTXNQ2GXIQSP\n86: A3CZ9T0BO40T0\n87: A3FBC5W56LKQXL\n88: A3FSDH6HUZPNQ8\n89: A3G5OWGKHW6OL5\n90: A3HE29W5IDR394\n91: A3HKMZ9ML9EPUY\n92: A3I40B0FATY8VH\n93: A3L4JI1S352HB8\n94: A3LVLZS8S41ZD7\n95: A3MGDMVIQ1ZZ5S\n96: A3MPHGI584PR1U\n97: A3NKA0NIM0TX5C\n98: A3NXT3OVGL7QNR\n99: A3PYD7EU2WFST6\n100: A3QSFE6GKO157S\n101: A3RL02A3JRAUS4\n102: A3RLCGRXA34GC0\n103: A3RVHUY67SVXQV\n104: A3V2XCDF45VN9X\n105: A3VMKLJTSGYKHN\n106: A3VY5ZJZITBGKE\n107: A3VZ5K4RRT6NN8\n108: A58208A71VGW\n109: A5K7BE7M1A8GV\n110: A65N7P7LMZ4GE\n111: A77EN6TMUN0ZM\n112: A7MIAWD2MRWBG\n113: A7P3R1AIA4TVV\n114: A8KX1HFH8NE2Q\n115: A8UJNIY9R8S7W\n116: A94DL4GI8ZBUO\n117: A9692Y27LBXT9\n118: A98E8M4QLI9RS\n119: A9MJVJAMLCDMV\n120: A9O273N0X06JS\n121: AB09F0Q4T10TE\n122: ABUABR22YMOGG\n123: ABW8U1U74P8MI\n124: AEQ8K4HBO323D\n125: AETIZKQNUSBLB\n126: AFSW5HVZ0EKET\n127: AG9LMLEPXP2YC\n128: AGRKG3YT3KMD8\n129: AIHHRINW9IN1I\n130: AJD65G9H2QUE9\n131: AJQ71YIGY01HZ\n132: AJRY9ALX8069Y\n133: AKJ22H1NTVIQX\n134: AKQAI78JTXXC9\n135: AKSJ3C5O3V9RB\n136: AN098C29EGJ6\n137: AN9MVFWRCF2OP\n138: ANJJYKB47APL5\n139: AQBMQKSLXHSC7\n140: AQXZUVF2QWLYS\n141: AT20PW4G38BMM\n142: AVNXCGTZQ1CFK\n143: AW5O1RK3W60FC\n144: AWTGJ45ZWUCHH\n145: AXKTYKCT9NGHS\n146: AY5WYV3L02AXW\n147: AY9UWGHEE2P04\n148: AZ69TBTDH7AZS\n149: AZ8JL3QNIPY4U\n"
     ]
    }
   ],
   "source": [
    "df_new_MT = df_MT.copy()\n",
    "\n",
    "workerid = new_df_batch['WorkerId'].tolist()\n",
    "c = 0\n",
    "\n",
    "for i in range(df_new_MT.shape[0]):\n",
    "    \n",
    "    if df_new_MT['Worker ID'][i] in workerid:\n",
    "        df_new_MT['UPDATE-Already Participated JOVO'][i] = str(1)\n",
    "        c += 1\n",
    "        print('{}: {}'.format(c, df_new_MT['Worker ID'][i]))"
   ]
  },
  {
   "cell_type": "code",
   "execution_count": 31,
   "metadata": {},
   "outputs": [],
   "source": [
    "if save:\n",
    "    df_new_MT.to_csv(filename[:-4] + '_updated.csv', index=False)"
   ]
  },
  {
   "cell_type": "code",
   "execution_count": 32,
   "metadata": {},
   "outputs": [
    {
     "output_type": "execute_result",
     "data": {
      "text/plain": [
       "           Worker ID                      Link to Individual Worker Page  \\\n",
       "1284   A65N7P7LMZ4GE   https://requester.mturk.com/workers/A65N7P7LMZ4GE   \n",
       "812   A2VRDE2FHCBMF8  https://requester.mturk.com/workers/A2VRDE2FHCBMF8   \n",
       "923   A34CPKFZXBX1PO  https://requester.mturk.com/workers/A34CPKFZXBX1PO   \n",
       "1400   AG9LMLEPXP2YC   https://requester.mturk.com/workers/AG9LMLEPXP2YC   \n",
       "1396   AFSW5HVZ0EKET   https://requester.mturk.com/workers/AFSW5HVZ0EKET   \n",
       "\n",
       "     Number of HITs approved or rejected - Lifetime  \\\n",
       "1284                                              1   \n",
       "812                                               2   \n",
       "923                                               2   \n",
       "1400                                              1   \n",
       "1396                                              1   \n",
       "\n",
       "     Number of HITs approved - Lifetime Your Lifetime approval rate  \\\n",
       "1284                                  1                     100.00%   \n",
       "812                                   2                     100.00%   \n",
       "923                                   2                     100.00%   \n",
       "1400                                  1                     100.00%   \n",
       "1396                                  1                     100.00%   \n",
       "\n",
       "     Number of HITs approved or rejected - Last 30 days  \\\n",
       "1284                                                  1   \n",
       "812                                                   1   \n",
       "923                                                   1   \n",
       "1400                                                  1   \n",
       "1396                                                  1   \n",
       "\n",
       "     Number of HITs approved - Last 30 days Your Last 30 days approval rate  \\\n",
       "1284                                      1                         100.00%   \n",
       "812                                       1                         100.00%   \n",
       "923                                       1                         100.00%   \n",
       "1400                                      1                         100.00%   \n",
       "1396                                      1                         100.00%   \n",
       "\n",
       "     Number of HITs approved or rejected - Last 7 days  \\\n",
       "1284                                                 1   \n",
       "812                                                  1   \n",
       "923                                                  0   \n",
       "1400                                                 1   \n",
       "1396                                                 1   \n",
       "\n",
       "     Number of HITs approved - Last 7 days  ...  \\\n",
       "1284                                     1  ...   \n",
       "812                                      1  ...   \n",
       "923                                      0  ...   \n",
       "1400                                     1  ...   \n",
       "1396                                     1  ...   \n",
       "\n",
       "     UPDATE-Completed Social Touch Study CURRENT-Compensation HIT  \\\n",
       "1284                                 NaN                      NaN   \n",
       "812                                  NaN                      NaN   \n",
       "923                                  NaN                      NaN   \n",
       "1400                                 NaN                      NaN   \n",
       "1396                                 NaN                      NaN   \n",
       "\n",
       "     UPDATE-Compensation HIT CURRENT-Already Participated JOVO  \\\n",
       "1284                     NaN                               1.0   \n",
       "812                      NaN                               1.0   \n",
       "923                      NaN                               1.0   \n",
       "1400                     NaN                               1.0   \n",
       "1396                     NaN                               1.0   \n",
       "\n",
       "     UPDATE-Already Participated JOVO CURRENT-Action Participation  \\\n",
       "1284                                1                          NaN   \n",
       "812                                 1                          NaN   \n",
       "923                                 1                          NaN   \n",
       "1400                                1                          NaN   \n",
       "1396                                1                          NaN   \n",
       "\n",
       "     UPDATE-Action Participation CURRENT BlockStatus UPDATE BlockStatus  \\\n",
       "1284                         NaN       Never Blocked                NaN   \n",
       "812                          NaN       Never Blocked                NaN   \n",
       "923                          NaN       Never Blocked                NaN   \n",
       "1400                         NaN       Never Blocked                NaN   \n",
       "1396                         NaN       Never Blocked                NaN   \n",
       "\n",
       "     BlockReason  \n",
       "1284         NaN  \n",
       "812          NaN  \n",
       "923          NaN  \n",
       "1400         NaN  \n",
       "1396         NaN  \n",
       "\n",
       "[5 rows x 34 columns]"
      ],
      "text/html": "<div>\n<style scoped>\n    .dataframe tbody tr th:only-of-type {\n        vertical-align: middle;\n    }\n\n    .dataframe tbody tr th {\n        vertical-align: top;\n    }\n\n    .dataframe thead th {\n        text-align: right;\n    }\n</style>\n<table border=\"1\" class=\"dataframe\">\n  <thead>\n    <tr style=\"text-align: right;\">\n      <th></th>\n      <th>Worker ID</th>\n      <th>Link to Individual Worker Page</th>\n      <th>Number of HITs approved or rejected - Lifetime</th>\n      <th>Number of HITs approved - Lifetime</th>\n      <th>Your Lifetime approval rate</th>\n      <th>Number of HITs approved or rejected - Last 30 days</th>\n      <th>Number of HITs approved - Last 30 days</th>\n      <th>Your Last 30 days approval rate</th>\n      <th>Number of HITs approved or rejected - Last 7 days</th>\n      <th>Number of HITs approved - Last 7 days</th>\n      <th>...</th>\n      <th>UPDATE-Completed Social Touch Study</th>\n      <th>CURRENT-Compensation HIT</th>\n      <th>UPDATE-Compensation HIT</th>\n      <th>CURRENT-Already Participated JOVO</th>\n      <th>UPDATE-Already Participated JOVO</th>\n      <th>CURRENT-Action Participation</th>\n      <th>UPDATE-Action Participation</th>\n      <th>CURRENT BlockStatus</th>\n      <th>UPDATE BlockStatus</th>\n      <th>BlockReason</th>\n    </tr>\n  </thead>\n  <tbody>\n    <tr>\n      <th>1284</th>\n      <td>A65N7P7LMZ4GE</td>\n      <td>https://requester.mturk.com/workers/A65N7P7LMZ4GE</td>\n      <td>1</td>\n      <td>1</td>\n      <td>100.00%</td>\n      <td>1</td>\n      <td>1</td>\n      <td>100.00%</td>\n      <td>1</td>\n      <td>1</td>\n      <td>...</td>\n      <td>NaN</td>\n      <td>NaN</td>\n      <td>NaN</td>\n      <td>1.0</td>\n      <td>1</td>\n      <td>NaN</td>\n      <td>NaN</td>\n      <td>Never Blocked</td>\n      <td>NaN</td>\n      <td>NaN</td>\n    </tr>\n    <tr>\n      <th>812</th>\n      <td>A2VRDE2FHCBMF8</td>\n      <td>https://requester.mturk.com/workers/A2VRDE2FHCBMF8</td>\n      <td>2</td>\n      <td>2</td>\n      <td>100.00%</td>\n      <td>1</td>\n      <td>1</td>\n      <td>100.00%</td>\n      <td>1</td>\n      <td>1</td>\n      <td>...</td>\n      <td>NaN</td>\n      <td>NaN</td>\n      <td>NaN</td>\n      <td>1.0</td>\n      <td>1</td>\n      <td>NaN</td>\n      <td>NaN</td>\n      <td>Never Blocked</td>\n      <td>NaN</td>\n      <td>NaN</td>\n    </tr>\n    <tr>\n      <th>923</th>\n      <td>A34CPKFZXBX1PO</td>\n      <td>https://requester.mturk.com/workers/A34CPKFZXBX1PO</td>\n      <td>2</td>\n      <td>2</td>\n      <td>100.00%</td>\n      <td>1</td>\n      <td>1</td>\n      <td>100.00%</td>\n      <td>0</td>\n      <td>0</td>\n      <td>...</td>\n      <td>NaN</td>\n      <td>NaN</td>\n      <td>NaN</td>\n      <td>1.0</td>\n      <td>1</td>\n      <td>NaN</td>\n      <td>NaN</td>\n      <td>Never Blocked</td>\n      <td>NaN</td>\n      <td>NaN</td>\n    </tr>\n    <tr>\n      <th>1400</th>\n      <td>AG9LMLEPXP2YC</td>\n      <td>https://requester.mturk.com/workers/AG9LMLEPXP2YC</td>\n      <td>1</td>\n      <td>1</td>\n      <td>100.00%</td>\n      <td>1</td>\n      <td>1</td>\n      <td>100.00%</td>\n      <td>1</td>\n      <td>1</td>\n      <td>...</td>\n      <td>NaN</td>\n      <td>NaN</td>\n      <td>NaN</td>\n      <td>1.0</td>\n      <td>1</td>\n      <td>NaN</td>\n      <td>NaN</td>\n      <td>Never Blocked</td>\n      <td>NaN</td>\n      <td>NaN</td>\n    </tr>\n    <tr>\n      <th>1396</th>\n      <td>AFSW5HVZ0EKET</td>\n      <td>https://requester.mturk.com/workers/AFSW5HVZ0EKET</td>\n      <td>1</td>\n      <td>1</td>\n      <td>100.00%</td>\n      <td>1</td>\n      <td>1</td>\n      <td>100.00%</td>\n      <td>1</td>\n      <td>1</td>\n      <td>...</td>\n      <td>NaN</td>\n      <td>NaN</td>\n      <td>NaN</td>\n      <td>1.0</td>\n      <td>1</td>\n      <td>NaN</td>\n      <td>NaN</td>\n      <td>Never Blocked</td>\n      <td>NaN</td>\n      <td>NaN</td>\n    </tr>\n  </tbody>\n</table>\n<p>5 rows × 34 columns</p>\n</div>"
     },
     "metadata": {},
     "execution_count": 32
    }
   ],
   "source": [
    "# df_new_MT[df_new_MT['Worker ID'] == 'AY5WYV3L02AXW']\n",
    "df_MT_updated = pd.DataFrame(columns=df_MT.columns)\n",
    "\n",
    "for ids in new_df_batch['WorkerId']:\n",
    "    df_MT_updated = df_MT_updated.append(df_new_MT[df_new_MT['Worker ID'] == ids])\n",
    "\n",
    "df_MT_updated.head()"
   ]
  },
  {
   "cell_type": "code",
   "execution_count": 33,
   "metadata": {},
   "outputs": [
    {
     "output_type": "execute_result",
     "data": {
      "text/plain": [
       "149"
      ]
     },
     "metadata": {},
     "execution_count": 33
    }
   ],
   "source": [
    "# final check to make sure there is no duplicate\n",
    "df_MT_updated['Worker ID'].unique().size"
   ]
  },
  {
   "cell_type": "code",
   "execution_count": null,
   "metadata": {},
   "outputs": [],
   "source": []
  }
 ]
}